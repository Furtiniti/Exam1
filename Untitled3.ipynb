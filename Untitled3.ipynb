{
 "cells": [
  {
   "cell_type": "markdown",
   "id": "25fcf1ab-c9d6-4ea4-9d7c-33a252d24f87",
   "metadata": {},
   "source": [
    "# My Jupyter Notebook on IBM Watson Studio"
   ]
  },
  {
   "cell_type": "markdown",
   "id": "d2a1d47a-8358-46fe-b25f-ad066c5aa74e",
   "metadata": {},
   "source": [
    "**Alexander**"
   ]
  },
  {
   "cell_type": "markdown",
   "id": "3a6f70ba-a4e1-4c34-bf12-e779b9d699b8",
   "metadata": {},
   "source": [
    "AI engineer"
   ]
  },
  {
   "cell_type": "markdown",
   "id": "61ee409a-e08c-4344-bf3b-7b37fa051336",
   "metadata": {},
   "source": [
    "__For the most part, I'm only interested in AI and everything related to it, so I don't care about most of the data science except for the topics about the models of their device and in general about the AI.__"
   ]
  },
  {
   "cell_type": "markdown",
   "id": "94a4d5d3-a236-4eb0-abc7-8d0dbdc0acc7",
   "metadata": {},
   "source": [
    "### The code shows a sequence of digits with the step that you specify"
   ]
  },
  {
   "cell_type": "code",
   "execution_count": 1,
   "id": "7293fffd-1d5d-4dae-87bb-b9c180bde91f",
   "metadata": {},
   "outputs": [
    {
     "name": "stdin",
     "output_type": "stream",
     "text": [
      " 2\n"
     ]
    },
    {
     "name": "stdout",
     "output_type": "stream",
     "text": [
      "1\n",
      "3\n",
      "5\n",
      "7\n",
      "9\n",
      "11\n",
      "13\n",
      "15\n",
      "17\n",
      "19\n",
      "21\n",
      "23\n",
      "25\n",
      "27\n",
      "29\n",
      "31\n",
      "33\n",
      "35\n",
      "37\n",
      "39\n",
      "41\n",
      "43\n",
      "45\n",
      "47\n",
      "49\n"
     ]
    }
   ],
   "source": [
    "for i in range(1,50,int(input())): print(i)"
   ]
  },
  {
   "cell_type": "code",
   "execution_count": null,
   "id": "2b4f08c1-0a4c-4c74-8f3a-eeb32f459b63",
   "metadata": {},
   "outputs": [],
   "source": []
  }
 ],
 "metadata": {
  "kernelspec": {
   "display_name": "Python 3 (ipykernel)",
   "language": "python",
   "name": "python3"
  },
  "language_info": {
   "codemirror_mode": {
    "name": "ipython",
    "version": 3
   },
   "file_extension": ".py",
   "mimetype": "text/x-python",
   "name": "python",
   "nbconvert_exporter": "python",
   "pygments_lexer": "ipython3",
   "version": "3.9.13"
  }
 },
 "nbformat": 4,
 "nbformat_minor": 5
}
